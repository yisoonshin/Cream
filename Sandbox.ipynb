{
 "cells": [
  {
   "cell_type": "code",
   "execution_count": 1,
   "metadata": {},
   "outputs": [
    {
     "name": "stdout",
     "output_type": "stream",
     "text": [
      "Can you confirm if this is correct? (y/n)y\n",
      "Great! Thanks for confirming.\n"
     ]
    }
   ],
   "source": [
    "check = input('Can you confirm if this is correct? (y/n)').lower()\n",
    "while check != 'y':\n",
    "    check = input('Can you confirm if this is correct? (y/n)').lower()\n",
    "else:\n",
    "    print('Great! Thanks for confirming.')"
   ]
  },
  {
   "cell_type": "code",
   "execution_count": 2,
   "metadata": {},
   "outputs": [
    {
     "data": {
      "text/html": [
       "<div>\n",
       "<style scoped>\n",
       "    .dataframe tbody tr th:only-of-type {\n",
       "        vertical-align: middle;\n",
       "    }\n",
       "\n",
       "    .dataframe tbody tr th {\n",
       "        vertical-align: top;\n",
       "    }\n",
       "\n",
       "    .dataframe thead th {\n",
       "        text-align: right;\n",
       "    }\n",
       "</style>\n",
       "<table border=\"1\" class=\"dataframe\">\n",
       "  <thead>\n",
       "    <tr style=\"text-align: right;\">\n",
       "      <th></th>\n",
       "      <th>magnitude</th>\n",
       "      <th>record_type</th>\n",
       "      <th>is_ddos</th>\n",
       "      <th>uuid</th>\n",
       "      <th>timestamp</th>\n",
       "    </tr>\n",
       "  </thead>\n",
       "  <tbody>\n",
       "    <tr>\n",
       "      <th>0</th>\n",
       "      <td>3917.150671</td>\n",
       "      <td>normal</td>\n",
       "      <td>0</td>\n",
       "      <td>1</td>\n",
       "      <td>2020-07-01 00:01:00</td>\n",
       "    </tr>\n",
       "    <tr>\n",
       "      <th>1</th>\n",
       "      <td>9379.403504</td>\n",
       "      <td>normal</td>\n",
       "      <td>0</td>\n",
       "      <td>2</td>\n",
       "      <td>2020-07-01 00:02:00</td>\n",
       "    </tr>\n",
       "    <tr>\n",
       "      <th>2</th>\n",
       "      <td>1544.080967</td>\n",
       "      <td>normal</td>\n",
       "      <td>0</td>\n",
       "      <td>3</td>\n",
       "      <td>2020-07-01 00:03:00</td>\n",
       "    </tr>\n",
       "    <tr>\n",
       "      <th>3</th>\n",
       "      <td>3403.995906</td>\n",
       "      <td>normal</td>\n",
       "      <td>0</td>\n",
       "      <td>4</td>\n",
       "      <td>2020-07-01 00:04:00</td>\n",
       "    </tr>\n",
       "    <tr>\n",
       "      <th>4</th>\n",
       "      <td>4883.865333</td>\n",
       "      <td>normal</td>\n",
       "      <td>0</td>\n",
       "      <td>5</td>\n",
       "      <td>2020-07-01 00:05:00</td>\n",
       "    </tr>\n",
       "  </tbody>\n",
       "</table>\n",
       "</div>"
      ],
      "text/plain": [
       "     magnitude record_type  is_ddos  uuid            timestamp\n",
       "0  3917.150671      normal        0     1  2020-07-01 00:01:00\n",
       "1  9379.403504      normal        0     2  2020-07-01 00:02:00\n",
       "2  1544.080967      normal        0     3  2020-07-01 00:03:00\n",
       "3  3403.995906      normal        0     4  2020-07-01 00:04:00\n",
       "4  4883.865333      normal        0     5  2020-07-01 00:05:00"
      ]
     },
     "execution_count": 2,
     "metadata": {},
     "output_type": "execute_result"
    }
   ],
   "source": [
    "import pandas as pd\n",
    "df = pd.read_csv('simulated_ddos_data.csv')\n",
    "df.head()"
   ]
  },
  {
   "cell_type": "code",
   "execution_count": 24,
   "metadata": {},
   "outputs": [
    {
     "data": {
      "text/plain": [
       "array(['normal', 'DDoS'], dtype=object)"
      ]
     },
     "execution_count": 24,
     "metadata": {},
     "output_type": "execute_result"
    }
   ],
   "source": [
    "df.record_type.unique()"
   ]
  },
  {
   "cell_type": "code",
   "execution_count": 30,
   "metadata": {},
   "outputs": [
    {
     "data": {
      "text/html": [
       "<div>\n",
       "<style scoped>\n",
       "    .dataframe tbody tr th:only-of-type {\n",
       "        vertical-align: middle;\n",
       "    }\n",
       "\n",
       "    .dataframe tbody tr th {\n",
       "        vertical-align: top;\n",
       "    }\n",
       "\n",
       "    .dataframe thead th {\n",
       "        text-align: right;\n",
       "    }\n",
       "</style>\n",
       "<table border=\"1\" class=\"dataframe\">\n",
       "  <thead>\n",
       "    <tr style=\"text-align: right;\">\n",
       "      <th></th>\n",
       "      <th>magnitude</th>\n",
       "      <th>record_type</th>\n",
       "      <th>is_ddos</th>\n",
       "      <th>uuid</th>\n",
       "      <th>timestamp</th>\n",
       "    </tr>\n",
       "  </thead>\n",
       "  <tbody>\n",
       "    <tr>\n",
       "      <th>0</th>\n",
       "      <td>24376.432653</td>\n",
       "      <td>DDoS</td>\n",
       "      <td>1</td>\n",
       "      <td>1</td>\n",
       "      <td>2020-07-01 00:01:00</td>\n",
       "    </tr>\n",
       "    <tr>\n",
       "      <th>1</th>\n",
       "      <td>26458.007847</td>\n",
       "      <td>DDoS</td>\n",
       "      <td>1</td>\n",
       "      <td>2</td>\n",
       "      <td>2020-07-01 00:02:00</td>\n",
       "    </tr>\n",
       "    <tr>\n",
       "      <th>2</th>\n",
       "      <td>25435.641576</td>\n",
       "      <td>DDoS</td>\n",
       "      <td>1</td>\n",
       "      <td>3</td>\n",
       "      <td>2020-07-01 00:03:00</td>\n",
       "    </tr>\n",
       "    <tr>\n",
       "      <th>3</th>\n",
       "      <td>23201.816407</td>\n",
       "      <td>DDoS</td>\n",
       "      <td>1</td>\n",
       "      <td>4</td>\n",
       "      <td>2020-07-01 00:04:00</td>\n",
       "    </tr>\n",
       "    <tr>\n",
       "      <th>4</th>\n",
       "      <td>20026.438697</td>\n",
       "      <td>DDoS</td>\n",
       "      <td>1</td>\n",
       "      <td>5</td>\n",
       "      <td>2020-07-01 00:05:00</td>\n",
       "    </tr>\n",
       "  </tbody>\n",
       "</table>\n",
       "</div>"
      ],
      "text/plain": [
       "      magnitude record_type  is_ddos  uuid            timestamp\n",
       "0  24376.432653        DDoS        1     1  2020-07-01 00:01:00\n",
       "1  26458.007847        DDoS        1     2  2020-07-01 00:02:00\n",
       "2  25435.641576        DDoS        1     3  2020-07-01 00:03:00\n",
       "3  23201.816407        DDoS        1     4  2020-07-01 00:04:00\n",
       "4  20026.438697        DDoS        1     5  2020-07-01 00:05:00"
      ]
     },
     "execution_count": 30,
     "metadata": {},
     "output_type": "execute_result"
    }
   ],
   "source": [
    "malicious = df.loc[df.is_ddos==1].copy().reset_index(drop=True)\n",
    "malicious.head()"
   ]
  },
  {
   "cell_type": "code",
   "execution_count": 21,
   "metadata": {},
   "outputs": [
    {
     "data": {
      "text/plain": [
       "0      24376.432653\n",
       "1      26458.007847\n",
       "2      25435.641576\n",
       "3      23201.816407\n",
       "4      20026.438697\n",
       "           ...     \n",
       "295    25202.790795\n",
       "296    22688.188677\n",
       "297    23638.699952\n",
       "298    24770.258531\n",
       "299    25653.744755\n",
       "Name: magnitude, Length: 300, dtype: float64"
      ]
     },
     "execution_count": 21,
     "metadata": {},
     "output_type": "execute_result"
    }
   ],
   "source": [
    "malicious_magnitude = malicious.magnitude\n",
    "malicious_magnitude"
   ]
  },
  {
   "cell_type": "code",
   "execution_count": 23,
   "metadata": {},
   "outputs": [
    {
     "data": {
      "text/plain": [
       "0      24376.432653\n",
       "1      26458.007847\n",
       "2      25435.641576\n",
       "3      23201.816407\n",
       "4      20026.438697\n",
       "           ...     \n",
       "295    25202.790795\n",
       "296    22688.188677\n",
       "297    23638.699952\n",
       "298    24770.258531\n",
       "299    25653.744755\n",
       "Name: magnitude, Length: 300, dtype: float64"
      ]
     },
     "execution_count": 23,
     "metadata": {},
     "output_type": "execute_result"
    }
   ],
   "source": [
    "mal_mag = df.loc[df.is_ddos==1,'magnitude'].copy().reset_index(drop=True)\n",
    "mal_mag"
   ]
  },
  {
   "cell_type": "code",
   "execution_count": 4,
   "metadata": {
    "scrolled": true
   },
   "outputs": [
    {
     "data": {
      "text/plain": [
       "25117.52355716445"
      ]
     },
     "execution_count": 4,
     "metadata": {},
     "output_type": "execute_result"
    }
   ],
   "source": [
    "df.loc[df.is_ddos==1,'magnitude'].copy().reset_index(drop=True).median()"
   ]
  },
  {
   "cell_type": "code",
   "execution_count": 5,
   "metadata": {},
   "outputs": [
    {
     "name": "stdout",
     "output_type": "stream",
     "text": [
      "300 86100 86400\n"
     ]
    }
   ],
   "source": [
    "normal = df.loc[df.is_ddos==0,:].copy().reset_index(drop=True)\n",
    "print(len(malicious.index), len(normal.index), len(malicious.index) + len(normal.index) )"
   ]
  },
  {
   "cell_type": "code",
   "execution_count": 6,
   "metadata": {
    "scrolled": true
   },
   "outputs": [
    {
     "data": {
      "text/plain": [
       "[0, 1]"
      ]
     },
     "execution_count": 6,
     "metadata": {},
     "output_type": "execute_result"
    }
   ],
   "source": [
    "sorted(list(df.is_ddos.unique()))"
   ]
  },
  {
   "cell_type": "code",
   "execution_count": 7,
   "metadata": {},
   "outputs": [
    {
     "data": {
      "text/plain": [
       "86100"
      ]
     },
     "execution_count": 7,
     "metadata": {},
     "output_type": "execute_result"
    }
   ],
   "source": [
    "normal.record_type.size"
   ]
  },
  {
   "cell_type": "code",
   "execution_count": 8,
   "metadata": {},
   "outputs": [],
   "source": [
    "import os"
   ]
  },
  {
   "cell_type": "code",
   "execution_count": 9,
   "metadata": {},
   "outputs": [
    {
     "data": {
      "text/plain": [
       "True"
      ]
     },
     "execution_count": 9,
     "metadata": {},
     "output_type": "execute_result"
    }
   ],
   "source": [
    "os.path.isdir('/home/kali/projects')"
   ]
  },
  {
   "cell_type": "code",
   "execution_count": 10,
   "metadata": {},
   "outputs": [
    {
     "data": {
      "text/plain": [
       "True"
      ]
     },
     "execution_count": 10,
     "metadata": {},
     "output_type": "execute_result"
    }
   ],
   "source": [
    "home = os.path.expanduser('~')\n",
    "os.path.isdir(f'{home}/projects')\n"
   ]
  },
  {
   "cell_type": "code",
   "execution_count": 11,
   "metadata": {},
   "outputs": [
    {
     "data": {
      "text/plain": [
       "'/home/kali'"
      ]
     },
     "execution_count": 11,
     "metadata": {},
     "output_type": "execute_result"
    }
   ],
   "source": [
    "os.path.expanduser('~')"
   ]
  },
  {
   "cell_type": "code",
   "execution_count": 12,
   "metadata": {},
   "outputs": [
    {
     "data": {
      "text/plain": [
       "False"
      ]
     },
     "execution_count": 12,
     "metadata": {},
     "output_type": "execute_result"
    }
   ],
   "source": [
    "os.path.isdir(os.path.join(home, 'cream'))"
   ]
  },
  {
   "cell_type": "code",
   "execution_count": 13,
   "metadata": {},
   "outputs": [],
   "source": [
    "from matplotlib import pyplot as plt\n",
    "import matplotlib.ticker as mtick\n",
    "import seaborn as sns\n",
    "import math"
   ]
  },
  {
   "cell_type": "code",
   "execution_count": 14,
   "metadata": {},
   "outputs": [
    {
     "data": {
      "image/png": "[encoded data removed]",
      "text/plain": [
       "<Figure size 648x432 with 1 Axes>"
      ]
     },
     "metadata": {
      "needs_background": "light"
     },
     "output_type": "display_data"
    }
   ],
   "source": [
    "fig, ax = plt.subplots()\n",
    "fig = plt.gcf()\n",
    "fig.set_size_inches(9, 6)\n",
    "sns.distplot(df.loc[df.is_ddos == 0, 'magnitude'], kde=False, bins=100, label='Normal', color='#b3e6ff')\n",
    "sns.distplot(df.loc[df.is_ddos == 1, 'magnitude'], kde=False, bins=100, label='Malicious', color='#800000')\n",
    "plt.xlabel('Magnitude')\n",
    "plt.ylabel('Observations')\n",
    "plt.title('Normal vs Malicious Activity Distribution')\n",
    "ax.get_xaxis().set_major_formatter(plt.FuncFormatter(lambda x, loc: \"{:,}\".format(int(x))))\n",
    "ax.get_yaxis().set_major_formatter(plt.FuncFormatter(lambda x, loc: \"{:,}\".format(int(x))))\n",
    "plt.legend()\n",
    "plt.tight_layout()\n",
    "plt.savefig(\"test.png\")"
   ]
  },
  {
   "cell_type": "code",
   "execution_count": 15,
   "metadata": {},
   "outputs": [
    {
     "data": {
      "image/png": "[encoded data removed]",
      "text/plain": [
       "<Figure size 648x432 with 1 Axes>"
      ]
     },
     "metadata": {
      "needs_background": "light"
     },
     "output_type": "display_data"
    }
   ],
   "source": [
    "fig, ax = plt.subplots()\n",
    "fig = plt.gcf()\n",
    "fig.set_size_inches(9, 6)\n",
    "sns.distplot(df.loc[df.is_ddos == 0, 'magnitude'], kde=False, bins=100, label='Normal', color='#b3e6ff')\n",
    "sns.distplot(df.loc[df.is_ddos == 1, 'magnitude'], kde=False, bins=100, label='Malicious', color='#800000')\n",
    "plt.xlabel('Magnitude')\n",
    "plt.ylabel('Observations')\n",
    "plt.title('Normal vs Malicious Activity Distribution (Zoomed in w/Generic Threshold)')\n",
    "ax.get_xaxis().set_major_formatter(plt.FuncFormatter(lambda x, loc: \"{:,}\".format(int(x))))\n",
    "ax.get_yaxis().set_major_formatter(plt.FuncFormatter(lambda x, loc: \"{:,}\".format(int(x))))\n",
    "norm_avg = 5015\n",
    "norm_stdev = 2045\n",
    "mal_avg = 25110\n",
    "mal_stdev = 1940\n",
    "plt.xlim(norm_avg + (2.5 * norm_stdev),mal_avg + (3 * mal_stdev))\n",
    "plt.ylim(0,300*.20)\n",
    "plt.axvline(x=norm_avg + (3 * norm_stdev), color='k', linestyle='dashed', linewidth=1, label='3 std dev threshold')\n",
    "plt.legend()\n",
    "plt.tight_layout()\n",
    "plt.savefig(\"test.png\")"
   ]
  },
  {
   "cell_type": "code",
   "execution_count": 16,
   "metadata": {},
   "outputs": [
    {
     "name": "stdout",
     "output_type": "stream",
     "text": [
      "5.163629206639163\n"
     ]
    }
   ],
   "source": [
    "est_mal_height = (1 / (mal_stdev * math.sqrt(2 * math.pi))) * mal_avg\n",
    "print(est_mal_height)"
   ]
  },
  {
   "cell_type": "code",
   "execution_count": 54,
   "metadata": {},
   "outputs": [
    {
     "data": {
      "image/png": "[encoded data removed]",
      "text/plain": [
       "<Figure size 648x432 with 1 Axes>"
      ]
     },
     "metadata": {
      "needs_background": "light"
     },
     "output_type": "display_data"
    }
   ],
   "source": [
    "fig, ax = plt.subplots()\n",
    "fig = plt.gcf()\n",
    "fig.set_size_inches(9, 6)\n",
    "sns.distplot(df.loc[df.is_ddos == 0, 'magnitude'], kde=True, bins=100, label='Normal', color='#b3e6ff')\n",
    "sns.distplot(df.loc[df.is_ddos == 1, 'magnitude'], kde=True, bins=100, label='Malicious', color='#800000')\n",
    "plt.xlabel('Magnitude')\n",
    "plt.ylabel('% of Category Observations')\n",
    "plt.title('Normal vs Malicious Activity Distribution (% of Group Total)')\n",
    "ax.get_xaxis().set_major_formatter(plt.FuncFormatter(lambda x, loc: \"{:,}\".format(int(x))))\n",
    "ax.get_yaxis().set_major_formatter(mtick.PercentFormatter(1.0))\n",
    "plt.legend()\n",
    "plt.tight_layout()\n",
    "plt.savefig(\"test.png\")"
   ]
  },
  {
   "cell_type": "code",
   "execution_count": 18,
   "metadata": {},
   "outputs": [
    {
     "data": {
      "text/plain": [
       "300"
      ]
     },
     "execution_count": 18,
     "metadata": {},
     "output_type": "execute_result"
    }
   ],
   "source": [
    "true_positives = df[(df.is_ddos == 1) & (df.magnitude >= 12000)]\n",
    "true_positives.shape[0]"
   ]
  },
  {
   "cell_type": "code",
   "execution_count": 19,
   "metadata": {},
   "outputs": [
    {
     "data": {
      "text/plain": [
       "True"
      ]
     },
     "execution_count": 19,
     "metadata": {},
     "output_type": "execute_result"
    }
   ],
   "source": [
    "import webbrowser\n",
    "webbrowser.open_new_tab('/home/kali/cream/lol/exploratory_data_focused_histogram.png')"
   ]
  },
  {
   "cell_type": "code",
   "execution_count": 49,
   "metadata": {},
   "outputs": [
    {
     "data": {
      "text/html": [
       "<div>\n",
       "<style scoped>\n",
       "    .dataframe tbody tr th:only-of-type {\n",
       "        vertical-align: middle;\n",
       "    }\n",
       "\n",
       "    .dataframe tbody tr th {\n",
       "        vertical-align: top;\n",
       "    }\n",
       "\n",
       "    .dataframe thead th {\n",
       "        text-align: right;\n",
       "    }\n",
       "</style>\n",
       "<table border=\"1\" class=\"dataframe\">\n",
       "  <thead>\n",
       "    <tr style=\"text-align: right;\">\n",
       "      <th></th>\n",
       "      <th>multiplier</th>\n",
       "      <th>threshold</th>\n",
       "      <th>false_positives</th>\n",
       "      <th>false_negatives</th>\n",
       "      <th>precision</th>\n",
       "      <th>recall</th>\n",
       "      <th>f1_score</th>\n",
       "      <th>fp_cost</th>\n",
       "      <th>fn_cost</th>\n",
       "      <th>estimated_total_cost_thousands</th>\n",
       "    </tr>\n",
       "  </thead>\n",
       "  <tbody>\n",
       "    <tr>\n",
       "      <th>0</th>\n",
       "      <td>3.0</td>\n",
       "      <td>13545</td>\n",
       "      <td>1229</td>\n",
       "      <td>0</td>\n",
       "      <td>0.1962</td>\n",
       "      <td>1.0</td>\n",
       "      <td>0.3280</td>\n",
       "      <td>409666.666667</td>\n",
       "      <td>0.0</td>\n",
       "      <td>409.666667</td>\n",
       "    </tr>\n",
       "    <tr>\n",
       "      <th>1</th>\n",
       "      <td>3.1</td>\n",
       "      <td>13829</td>\n",
       "      <td>1084</td>\n",
       "      <td>0</td>\n",
       "      <td>0.2168</td>\n",
       "      <td>1.0</td>\n",
       "      <td>0.3563</td>\n",
       "      <td>361333.333333</td>\n",
       "      <td>0.0</td>\n",
       "      <td>361.333333</td>\n",
       "    </tr>\n",
       "    <tr>\n",
       "      <th>2</th>\n",
       "      <td>3.2</td>\n",
       "      <td>14113</td>\n",
       "      <td>954</td>\n",
       "      <td>0</td>\n",
       "      <td>0.2392</td>\n",
       "      <td>1.0</td>\n",
       "      <td>0.3861</td>\n",
       "      <td>318000.000000</td>\n",
       "      <td>0.0</td>\n",
       "      <td>318.000000</td>\n",
       "    </tr>\n",
       "    <tr>\n",
       "      <th>3</th>\n",
       "      <td>3.3</td>\n",
       "      <td>14398</td>\n",
       "      <td>845</td>\n",
       "      <td>0</td>\n",
       "      <td>0.2620</td>\n",
       "      <td>1.0</td>\n",
       "      <td>0.4152</td>\n",
       "      <td>281666.666667</td>\n",
       "      <td>0.0</td>\n",
       "      <td>281.666667</td>\n",
       "    </tr>\n",
       "    <tr>\n",
       "      <th>4</th>\n",
       "      <td>3.4</td>\n",
       "      <td>14682</td>\n",
       "      <td>748</td>\n",
       "      <td>0</td>\n",
       "      <td>0.2863</td>\n",
       "      <td>1.0</td>\n",
       "      <td>0.4451</td>\n",
       "      <td>249333.333333</td>\n",
       "      <td>0.0</td>\n",
       "      <td>249.333333</td>\n",
       "    </tr>\n",
       "  </tbody>\n",
       "</table>\n",
       "</div>"
      ],
      "text/plain": [
       "   multiplier  threshold  false_positives  false_negatives  precision  recall  \\\n",
       "0         3.0      13545             1229                0     0.1962     1.0   \n",
       "1         3.1      13829             1084                0     0.2168     1.0   \n",
       "2         3.2      14113              954                0     0.2392     1.0   \n",
       "3         3.3      14398              845                0     0.2620     1.0   \n",
       "4         3.4      14682              748                0     0.2863     1.0   \n",
       "\n",
       "   f1_score        fp_cost  fn_cost  estimated_total_cost_thousands  \n",
       "0    0.3280  409666.666667      0.0                      409.666667  \n",
       "1    0.3563  361333.333333      0.0                      361.333333  \n",
       "2    0.3861  318000.000000      0.0                      318.000000  \n",
       "3    0.4152  281666.666667      0.0                      281.666667  \n",
       "4    0.4451  249333.333333      0.0                      249.333333  "
      ]
     },
     "execution_count": 49,
     "metadata": {},
     "output_type": "execute_result"
    }
   ],
   "source": [
    "eval_df = pd.read_csv('simulation_scores.csv')\n",
    "FN_ratio = 50\n",
    "eval_df.head()"
   ]
  },
  {
   "cell_type": "code",
   "execution_count": 50,
   "metadata": {},
   "outputs": [
    {
     "data": {
      "text/html": [
       "<div>\n",
       "<style scoped>\n",
       "    .dataframe tbody tr th:only-of-type {\n",
       "        vertical-align: middle;\n",
       "    }\n",
       "\n",
       "    .dataframe tbody tr th {\n",
       "        vertical-align: top;\n",
       "    }\n",
       "\n",
       "    .dataframe thead th {\n",
       "        text-align: right;\n",
       "    }\n",
       "</style>\n",
       "<table border=\"1\" class=\"dataframe\">\n",
       "  <thead>\n",
       "    <tr style=\"text-align: right;\">\n",
       "      <th></th>\n",
       "      <th>multiplier</th>\n",
       "      <th>threshold</th>\n",
       "      <th>false_positives</th>\n",
       "      <th>false_negatives</th>\n",
       "      <th>precision</th>\n",
       "      <th>recall</th>\n",
       "      <th>f1_score</th>\n",
       "      <th>fp_cost</th>\n",
       "      <th>fn_cost</th>\n",
       "      <th>estimated_total_cost_thousands</th>\n",
       "      <th>weighted_fn</th>\n",
       "      <th>total_weighted_errors</th>\n",
       "      <th>weighted_f1</th>\n",
       "    </tr>\n",
       "  </thead>\n",
       "  <tbody>\n",
       "    <tr>\n",
       "      <th>0</th>\n",
       "      <td>3.0</td>\n",
       "      <td>13545</td>\n",
       "      <td>1229</td>\n",
       "      <td>0</td>\n",
       "      <td>0.1962</td>\n",
       "      <td>1.0</td>\n",
       "      <td>0.3280</td>\n",
       "      <td>409666.666667</td>\n",
       "      <td>0.0</td>\n",
       "      <td>409.666667</td>\n",
       "      <td>0</td>\n",
       "      <td>1229</td>\n",
       "      <td>0.925643</td>\n",
       "    </tr>\n",
       "    <tr>\n",
       "      <th>1</th>\n",
       "      <td>3.1</td>\n",
       "      <td>13829</td>\n",
       "      <td>1084</td>\n",
       "      <td>0</td>\n",
       "      <td>0.2168</td>\n",
       "      <td>1.0</td>\n",
       "      <td>0.3563</td>\n",
       "      <td>361333.333333</td>\n",
       "      <td>0.0</td>\n",
       "      <td>361.333333</td>\n",
       "      <td>0</td>\n",
       "      <td>1084</td>\n",
       "      <td>0.933851</td>\n",
       "    </tr>\n",
       "    <tr>\n",
       "      <th>2</th>\n",
       "      <td>3.2</td>\n",
       "      <td>14113</td>\n",
       "      <td>954</td>\n",
       "      <td>0</td>\n",
       "      <td>0.2392</td>\n",
       "      <td>1.0</td>\n",
       "      <td>0.3861</td>\n",
       "      <td>318000.000000</td>\n",
       "      <td>0.0</td>\n",
       "      <td>318.000000</td>\n",
       "      <td>0</td>\n",
       "      <td>954</td>\n",
       "      <td>0.941296</td>\n",
       "    </tr>\n",
       "    <tr>\n",
       "      <th>3</th>\n",
       "      <td>3.3</td>\n",
       "      <td>14398</td>\n",
       "      <td>845</td>\n",
       "      <td>0</td>\n",
       "      <td>0.2620</td>\n",
       "      <td>1.0</td>\n",
       "      <td>0.4152</td>\n",
       "      <td>281666.666667</td>\n",
       "      <td>0.0</td>\n",
       "      <td>281.666667</td>\n",
       "      <td>0</td>\n",
       "      <td>845</td>\n",
       "      <td>0.947660</td>\n",
       "    </tr>\n",
       "    <tr>\n",
       "      <th>4</th>\n",
       "      <td>3.4</td>\n",
       "      <td>14682</td>\n",
       "      <td>748</td>\n",
       "      <td>0</td>\n",
       "      <td>0.2863</td>\n",
       "      <td>1.0</td>\n",
       "      <td>0.4451</td>\n",
       "      <td>249333.333333</td>\n",
       "      <td>0.0</td>\n",
       "      <td>249.333333</td>\n",
       "      <td>0</td>\n",
       "      <td>748</td>\n",
       "      <td>0.953399</td>\n",
       "    </tr>\n",
       "  </tbody>\n",
       "</table>\n",
       "</div>"
      ],
      "text/plain": [
       "   multiplier  threshold  false_positives  false_negatives  precision  recall  \\\n",
       "0         3.0      13545             1229                0     0.1962     1.0   \n",
       "1         3.1      13829             1084                0     0.2168     1.0   \n",
       "2         3.2      14113              954                0     0.2392     1.0   \n",
       "3         3.3      14398              845                0     0.2620     1.0   \n",
       "4         3.4      14682              748                0     0.2863     1.0   \n",
       "\n",
       "   f1_score        fp_cost  fn_cost  estimated_total_cost_thousands  \\\n",
       "0    0.3280  409666.666667      0.0                      409.666667   \n",
       "1    0.3563  361333.333333      0.0                      361.333333   \n",
       "2    0.3861  318000.000000      0.0                      318.000000   \n",
       "3    0.4152  281666.666667      0.0                      281.666667   \n",
       "4    0.4451  249333.333333      0.0                      249.333333   \n",
       "\n",
       "   weighted_fn  total_weighted_errors  weighted_f1  \n",
       "0            0                   1229     0.925643  \n",
       "1            0                   1084     0.933851  \n",
       "2            0                    954     0.941296  \n",
       "3            0                    845     0.947660  \n",
       "4            0                    748     0.953399  "
      ]
     },
     "execution_count": 50,
     "metadata": {},
     "output_type": "execute_result"
    }
   ],
   "source": [
    "eval_df['weighted_fn'] = eval_df.false_negatives * 10\n",
    "eval_df['total_weighted_errors'] = eval_df.false_positives + eval_df.weighted_fn\n",
    "eval_df['weighted_f1'] = (1 + FN_ratio) * (eval_df.precision * eval_df.recall) / \\\n",
    "    ((eval_df.precision * FN_ratio) + eval_df.recall)\n",
    "\n",
    "eval_df.head()"
   ]
  },
  {
   "cell_type": "code",
   "execution_count": 51,
   "metadata": {},
   "outputs": [
    {
     "data": {
      "image/png": "[encoded data removed]",
      "text/plain": [
       "<Figure size 648x432 with 2 Axes>"
      ]
     },
     "metadata": {
      "needs_background": "light"
     },
     "output_type": "display_data"
    }
   ],
   "source": [
    "# Compare it to our evaluation metrics.\n",
    "\n",
    "fig, ax = plt.subplots()\n",
    "fig = plt.gcf()\n",
    "fig.set_size_inches(9, 6)\n",
    "sns.lineplot(x='multiplier', y='total_weighted_errors', data=eval_df, label='weighted errors', color='green', legend=False)\n",
    "ax.set_ylabel('Estimated Cost ($1k USD)')\n",
    "ax.get_yaxis().set_major_formatter(plt.FuncFormatter(lambda x, loc: \"{:,}\".format(int(x))))\n",
    "ax.set_xlabel('Multiplier')\n",
    "\n",
    "ax2 = ax.twinx()\n",
    "sns.lineplot(x='multiplier', y='precision', ax=ax2, data=eval_df, label='precision', legend=False)\n",
    "sns.lineplot(x='multiplier', y='recall', ax=ax2, data=eval_df, label='recall', legend=False)\n",
    "sns.lineplot(x='multiplier', y='f1_score', ax=ax2, data=eval_df, label='f1 score', legend=False, color='purple')\n",
    "sns.lineplot(x='multiplier', y='weighted_f1', ax=ax2, data=eval_df, label='weighted f1', legend=False, color='pink')\n",
    "\n",
    "ax2.set_ylabel('Score')\n",
    "ax2.set_ylim(0,1.1)\n",
    "plt.legend(loc='upper right')\n",
    "\n",
    "plt.title('Evaluation Metrics vs Weighted Errors Across Multipliers')\n",
    "plt.show()"
   ]
  },
  {
   "cell_type": "code",
   "execution_count": null,
   "metadata": {},
   "outputs": [],
   "source": []
  }
 ],
 "metadata": {
  "kernelspec": {
   "display_name": "Python 3",
   "language": "python",
   "name": "python3"
  },
  "language_info": {
   "codemirror_mode": {
    "name": "ipython",
    "version": 3
   },
   "file_extension": ".py",
   "mimetype": "text/x-python",
   "name": "python",
   "nbconvert_exporter": "python",
   "pygments_lexer": "ipython3",
   "version": "3.8.3"
  }
 },
 "nbformat": 4,
 "nbformat_minor": 4
}
