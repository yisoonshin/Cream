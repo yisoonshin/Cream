{
 "cells": [
  {
   "cell_type": "code",
   "execution_count": 2,
   "metadata": {},
   "outputs": [
    {
     "name": "stdout",
     "output_type": "stream",
     "text": [
      "Can you confirm if this is correct? (y/n)n\n",
      "Can you confirm if this is correct? (y/n)n\n",
      "Can you confirm if this is correct? (y/n)y\n",
      "Great! Thanks for confirming.\n"
     ]
    }
   ],
   "source": [
    "check = input('Can you confirm if this is correct? (y/n)').lower()\n",
    "while check != 'y':\n",
    "    check = input('Can you confirm if this is correct? (y/n)').lower()\n",
    "else:\n",
    "    print('Great! Thanks for confirming.')"
   ]
  },
  {
   "cell_type": "code",
   "execution_count": 17,
   "metadata": {},
   "outputs": [
    {
     "data": {
      "text/html": [
       "<div>\n",
       "<style scoped>\n",
       "    .dataframe tbody tr th:only-of-type {\n",
       "        vertical-align: middle;\n",
       "    }\n",
       "\n",
       "    .dataframe tbody tr th {\n",
       "        vertical-align: top;\n",
       "    }\n",
       "\n",
       "    .dataframe thead th {\n",
       "        text-align: right;\n",
       "    }\n",
       "</style>\n",
       "<table border=\"1\" class=\"dataframe\">\n",
       "  <thead>\n",
       "    <tr style=\"text-align: right;\">\n",
       "      <th></th>\n",
       "      <th>magnitude</th>\n",
       "      <th>record_type</th>\n",
       "      <th>is_ddos</th>\n",
       "      <th>uuid</th>\n",
       "      <th>timestamp</th>\n",
       "    </tr>\n",
       "  </thead>\n",
       "  <tbody>\n",
       "    <tr>\n",
       "      <th>0</th>\n",
       "      <td>3917.150671</td>\n",
       "      <td>normal</td>\n",
       "      <td>0</td>\n",
       "      <td>1</td>\n",
       "      <td>2020-07-01 00:01:00</td>\n",
       "    </tr>\n",
       "    <tr>\n",
       "      <th>1</th>\n",
       "      <td>9379.403504</td>\n",
       "      <td>normal</td>\n",
       "      <td>0</td>\n",
       "      <td>2</td>\n",
       "      <td>2020-07-01 00:02:00</td>\n",
       "    </tr>\n",
       "    <tr>\n",
       "      <th>2</th>\n",
       "      <td>1544.080967</td>\n",
       "      <td>normal</td>\n",
       "      <td>0</td>\n",
       "      <td>3</td>\n",
       "      <td>2020-07-01 00:03:00</td>\n",
       "    </tr>\n",
       "    <tr>\n",
       "      <th>3</th>\n",
       "      <td>3403.995906</td>\n",
       "      <td>normal</td>\n",
       "      <td>0</td>\n",
       "      <td>4</td>\n",
       "      <td>2020-07-01 00:04:00</td>\n",
       "    </tr>\n",
       "    <tr>\n",
       "      <th>4</th>\n",
       "      <td>4883.865333</td>\n",
       "      <td>normal</td>\n",
       "      <td>0</td>\n",
       "      <td>5</td>\n",
       "      <td>2020-07-01 00:05:00</td>\n",
       "    </tr>\n",
       "  </tbody>\n",
       "</table>\n",
       "</div>"
      ],
      "text/plain": [
       "     magnitude record_type  is_ddos  uuid            timestamp\n",
       "0  3917.150671      normal        0     1  2020-07-01 00:01:00\n",
       "1  9379.403504      normal        0     2  2020-07-01 00:02:00\n",
       "2  1544.080967      normal        0     3  2020-07-01 00:03:00\n",
       "3  3403.995906      normal        0     4  2020-07-01 00:04:00\n",
       "4  4883.865333      normal        0     5  2020-07-01 00:05:00"
      ]
     },
     "execution_count": 17,
     "metadata": {},
     "output_type": "execute_result"
    }
   ],
   "source": [
    "import pandas as pd\n",
    "df = pd.read_csv('simulated_ddos_data.csv')\n",
    "df.head()"
   ]
  },
  {
   "cell_type": "code",
   "execution_count": 21,
   "metadata": {},
   "outputs": [
    {
     "data": {
      "text/html": [
       "<div>\n",
       "<style scoped>\n",
       "    .dataframe tbody tr th:only-of-type {\n",
       "        vertical-align: middle;\n",
       "    }\n",
       "\n",
       "    .dataframe tbody tr th {\n",
       "        vertical-align: top;\n",
       "    }\n",
       "\n",
       "    .dataframe thead th {\n",
       "        text-align: right;\n",
       "    }\n",
       "</style>\n",
       "<table border=\"1\" class=\"dataframe\">\n",
       "  <thead>\n",
       "    <tr style=\"text-align: right;\">\n",
       "      <th></th>\n",
       "      <th>magnitude</th>\n",
       "      <th>record_type</th>\n",
       "      <th>is_ddos</th>\n",
       "      <th>uuid</th>\n",
       "      <th>timestamp</th>\n",
       "    </tr>\n",
       "  </thead>\n",
       "  <tbody>\n",
       "    <tr>\n",
       "      <th>0</th>\n",
       "      <td>24376.432653</td>\n",
       "      <td>DDoS</td>\n",
       "      <td>1</td>\n",
       "      <td>1</td>\n",
       "      <td>2020-07-01 00:01:00</td>\n",
       "    </tr>\n",
       "    <tr>\n",
       "      <th>1</th>\n",
       "      <td>26458.007847</td>\n",
       "      <td>DDoS</td>\n",
       "      <td>1</td>\n",
       "      <td>2</td>\n",
       "      <td>2020-07-01 00:02:00</td>\n",
       "    </tr>\n",
       "    <tr>\n",
       "      <th>2</th>\n",
       "      <td>25435.641576</td>\n",
       "      <td>DDoS</td>\n",
       "      <td>1</td>\n",
       "      <td>3</td>\n",
       "      <td>2020-07-01 00:03:00</td>\n",
       "    </tr>\n",
       "    <tr>\n",
       "      <th>3</th>\n",
       "      <td>23201.816407</td>\n",
       "      <td>DDoS</td>\n",
       "      <td>1</td>\n",
       "      <td>4</td>\n",
       "      <td>2020-07-01 00:04:00</td>\n",
       "    </tr>\n",
       "    <tr>\n",
       "      <th>4</th>\n",
       "      <td>20026.438697</td>\n",
       "      <td>DDoS</td>\n",
       "      <td>1</td>\n",
       "      <td>5</td>\n",
       "      <td>2020-07-01 00:05:00</td>\n",
       "    </tr>\n",
       "  </tbody>\n",
       "</table>\n",
       "</div>"
      ],
      "text/plain": [
       "      magnitude record_type  is_ddos  uuid            timestamp\n",
       "0  24376.432653        DDoS        1     1  2020-07-01 00:01:00\n",
       "1  26458.007847        DDoS        1     2  2020-07-01 00:02:00\n",
       "2  25435.641576        DDoS        1     3  2020-07-01 00:03:00\n",
       "3  23201.816407        DDoS        1     4  2020-07-01 00:04:00\n",
       "4  20026.438697        DDoS        1     5  2020-07-01 00:05:00"
      ]
     },
     "execution_count": 21,
     "metadata": {},
     "output_type": "execute_result"
    }
   ],
   "source": [
    "malicious = df.loc[df.is_ddos==1,:].copy().reset_index(drop=True)\n",
    "malicious.head()"
   ]
  },
  {
   "cell_type": "code",
   "execution_count": 58,
   "metadata": {
    "scrolled": true
   },
   "outputs": [
    {
     "data": {
      "text/plain": [
       "25117.52355716445"
      ]
     },
     "execution_count": 58,
     "metadata": {},
     "output_type": "execute_result"
    }
   ],
   "source": [
    "df.loc[df.is_ddos==1,'magnitude'].copy().reset_index(drop=True).median()"
   ]
  },
  {
   "cell_type": "code",
   "execution_count": 22,
   "metadata": {},
   "outputs": [
    {
     "name": "stdout",
     "output_type": "stream",
     "text": [
      "300 86100 86400\n"
     ]
    }
   ],
   "source": [
    "normal = df.loc[df.is_ddos==0,:].copy().reset_index(drop=True)\n",
    "print(len(malicious.index), len(normal.index), len(malicious.index) + len(normal.index) )"
   ]
  },
  {
   "cell_type": "code",
   "execution_count": 25,
   "metadata": {
    "scrolled": true
   },
   "outputs": [
    {
     "data": {
      "text/plain": [
       "[0, 1]"
      ]
     },
     "execution_count": 25,
     "metadata": {},
     "output_type": "execute_result"
    }
   ],
   "source": [
    "sorted(list(df.is_ddos.unique()))"
   ]
  },
  {
   "cell_type": "code",
   "execution_count": 72,
   "metadata": {},
   "outputs": [
    {
     "data": {
      "text/plain": [
       "86100"
      ]
     },
     "execution_count": 72,
     "metadata": {},
     "output_type": "execute_result"
    }
   ],
   "source": [
    "normal.record_type.size"
   ]
  },
  {
   "cell_type": "code",
   "execution_count": 59,
   "metadata": {},
   "outputs": [],
   "source": [
    "import os"
   ]
  },
  {
   "cell_type": "code",
   "execution_count": 61,
   "metadata": {},
   "outputs": [
    {
     "data": {
      "text/plain": [
       "True"
      ]
     },
     "execution_count": 61,
     "metadata": {},
     "output_type": "execute_result"
    }
   ],
   "source": [
    "os.path.isdir('/home/kali/projects')"
   ]
  },
  {
   "cell_type": "code",
   "execution_count": 69,
   "metadata": {},
   "outputs": [
    {
     "data": {
      "text/plain": [
       "True"
      ]
     },
     "execution_count": 69,
     "metadata": {},
     "output_type": "execute_result"
    }
   ],
   "source": [
    "home = os.path.expanduser('~')\n",
    "os.path.isdir(f'{home}/projects')\n"
   ]
  },
  {
   "cell_type": "code",
   "execution_count": 67,
   "metadata": {},
   "outputs": [
    {
     "data": {
      "text/plain": [
       "'/home/kali'"
      ]
     },
     "execution_count": 67,
     "metadata": {},
     "output_type": "execute_result"
    }
   ],
   "source": [
    "os.path.expanduser('~')"
   ]
  },
  {
   "cell_type": "code",
   "execution_count": 132,
   "metadata": {},
   "outputs": [
    {
     "data": {
      "text/plain": [
       "True"
      ]
     },
     "execution_count": 132,
     "metadata": {},
     "output_type": "execute_result"
    }
   ],
   "source": [
    "os.path.isdir(os.path.join(home, 'cream'))"
   ]
  },
  {
   "cell_type": "code",
   "execution_count": 109,
   "metadata": {},
   "outputs": [],
   "source": [
    "from matplotlib import pyplot as plt\n",
    "import matplotlib.ticker as mtick\n",
    "import seaborn as sns\n",
    "import math"
   ]
  },
  {
   "cell_type": "code",
   "execution_count": 102,
   "metadata": {},
   "outputs": [
    {
     "data": {
      "image/png": "[encoded data removed]",
      "text/plain": [
       "<Figure size 648x432 with 1 Axes>"
      ]
     },
     "metadata": {
      "needs_background": "light"
     },
     "output_type": "display_data"
    }
   ],
   "source": [
    "fig, ax = plt.subplots()\n",
    "fig = plt.gcf()\n",
    "fig.set_size_inches(9, 6)\n",
    "sns.distplot(df.loc[df.is_ddos == 0, 'magnitude'], kde=False, bins=100, label='Normal', color='#b3e6ff')\n",
    "sns.distplot(df.loc[df.is_ddos == 1, 'magnitude'], kde=False, bins=100, label='Malicious', color='#800000')\n",
    "plt.xlabel('Magnitude')\n",
    "plt.ylabel('Observations')\n",
    "plt.title('Normal vs Malicious Activity Distribution')\n",
    "ax.get_xaxis().set_major_formatter(plt.FuncFormatter(lambda x, loc: \"{:,}\".format(int(x))))\n",
    "ax.get_yaxis().set_major_formatter(plt.FuncFormatter(lambda x, loc: \"{:,}\".format(int(x))))\n",
    "plt.legend()\n",
    "plt.tight_layout()\n",
    "plt.savefig(\"test.png\")"
   ]
  },
  {
   "cell_type": "code",
   "execution_count": 131,
   "metadata": {},
   "outputs": [
    {
     "data": {
      "image/png": "[encoded data removed]",
      "text/plain": [
       "<Figure size 648x432 with 1 Axes>"
      ]
     },
     "metadata": {
      "needs_background": "light"
     },
     "output_type": "display_data"
    }
   ],
   "source": [
    "fig, ax = plt.subplots()\n",
    "fig = plt.gcf()\n",
    "fig.set_size_inches(9, 6)\n",
    "sns.distplot(df.loc[df.is_ddos == 0, 'magnitude'], kde=False, bins=100, label='Normal', color='#b3e6ff')\n",
    "sns.distplot(df.loc[df.is_ddos == 1, 'magnitude'], kde=False, bins=100, label='Malicious', color='#800000')\n",
    "plt.xlabel('Magnitude')\n",
    "plt.ylabel('Observations')\n",
    "plt.title('Normal vs Malicious Activity Distribution (Zoomed in w/Generic Threshold)')\n",
    "ax.get_xaxis().set_major_formatter(plt.FuncFormatter(lambda x, loc: \"{:,}\".format(int(x))))\n",
    "ax.get_yaxis().set_major_formatter(plt.FuncFormatter(lambda x, loc: \"{:,}\".format(int(x))))\n",
    "norm_avg = 5015\n",
    "norm_stdev = 2045\n",
    "mal_avg = 25110\n",
    "mal_stdev = 1940\n",
    "plt.xlim(norm_avg + (2.5 * norm_stdev),mal_avg + (3 * mal_stdev))\n",
    "plt.ylim(0,300*.20)\n",
    "plt.axvline(x=norm_avg + (3 * norm_stdev), color='k', linestyle='dashed', linewidth=1, label='3 std dev threshold')\n",
    "plt.legend()\n",
    "plt.tight_layout()\n",
    "plt.savefig(\"test.png\")"
   ]
  },
  {
   "cell_type": "code",
   "execution_count": 117,
   "metadata": {},
   "outputs": [
    {
     "name": "stdout",
     "output_type": "stream",
     "text": [
      "5.163629206639163\n"
     ]
    }
   ],
   "source": [
    "est_mal_height = (1 / (mal_stdev * math.sqrt(2 * math.pi))) * mal_avg\n",
    "print(est_mal_height)"
   ]
  },
  {
   "cell_type": "code",
   "execution_count": 100,
   "metadata": {},
   "outputs": [
    {
     "data": {
      "image/png": "[encoded data removed]",
      "text/plain": [
       "<Figure size 648x432 with 1 Axes>"
      ]
     },
     "metadata": {
      "needs_background": "light"
     },
     "output_type": "display_data"
    }
   ],
   "source": [
    "fig, ax = plt.subplots()\n",
    "fig = plt.gcf()\n",
    "fig.set_size_inches(9, 6)\n",
    "sns.distplot(df.loc[df.is_ddos == 0, 'magnitude'], kde=True, bins=100, label='Normal', color='#b3e6ff')\n",
    "sns.distplot(df.loc[df.is_ddos == 1, 'magnitude'], kde=True, bins=100, label='Malicious', color='#800000')\n",
    "plt.xlabel('Magnitude')\n",
    "plt.ylabel('% of Category Observations')\n",
    "plt.title('Normal vs Malicious Activity Distribution (% of Group Total)')\n",
    "ax.get_xaxis().set_major_formatter(plt.FuncFormatter(lambda x, loc: \"{:,}\".format(int(x))))\n",
    "ax.get_yaxis().set_major_formatter(mtick.PercentFormatter())\n",
    "plt.legend()\n",
    "plt.tight_layout()\n",
    "plt.savefig(\"test.png\")"
   ]
  },
  {
   "cell_type": "code",
   "execution_count": 135,
   "metadata": {},
   "outputs": [
    {
     "data": {
      "text/plain": [
       "300"
      ]
     },
     "execution_count": 135,
     "metadata": {},
     "output_type": "execute_result"
    }
   ],
   "source": [
    "true_positives = df[(df.is_ddos == 1) & (df.magnitude >= 12000)]\n",
    "true_positives.shape[0]"
   ]
  },
  {
   "cell_type": "code",
   "execution_count": 139,
   "metadata": {},
   "outputs": [
    {
     "data": {
      "text/plain": [
       "True"
      ]
     },
     "execution_count": 139,
     "metadata": {},
     "output_type": "execute_result"
    }
   ],
   "source": [
    "import webbrowser\n",
    "webbrowser.open_new_tab('/home/kali/cream/lol/exploratory_data_focused_histogram.png')"
   ]
  },
  {
   "cell_type": "code",
   "execution_count": 160,
   "metadata": {},
   "outputs": [
    {
     "data": {
      "text/plain": [
       "3917.150671026197"
      ]
     },
     "execution_count": 160,
     "metadata": {},
     "output_type": "execute_result"
    }
   ],
   "source": [
    "df.iloc[0,:].magnitude"
   ]
  }
 ],
 "metadata": {
  "kernelspec": {
   "display_name": "Python 3",
   "language": "python",
   "name": "python3"
  },
  "language_info": {
   "codemirror_mode": {
    "name": "ipython",
    "version": 3
   },
   "file_extension": ".py",
   "mimetype": "text/x-python",
   "name": "python",
   "nbconvert_exporter": "python",
   "pygments_lexer": "ipython3",
   "version": "3.8.3"
  }
 },
 "nbformat": 4,
 "nbformat_minor": 4
}
